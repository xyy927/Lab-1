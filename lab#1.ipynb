{
 "cells": [
  {
   "cell_type": "code",
   "execution_count": 5,
   "id": "444e7cee",
   "metadata": {},
   "outputs": [
    {
     "name": "stdout",
     "output_type": "stream",
     "text": [
      "abcaaabbb\n",
      "abca3b3\n"
     ]
    }
   ],
   "source": [
    "def stringTransformer(string):\n",
    "    if not string:\n",
    "        return \"\"\n",
    "    \n",
    "    transformed = []\n",
    "    char = string[0]\n",
    "    count = 1\n",
    "\n",
    "    for i in range(1, len(string)):\n",
    "        if string[i] == char:\n",
    "            count += 1\n",
    "        else:\n",
    "            if count > 1:\n",
    "                transformed.append(char + str(count))\n",
    "            else:\n",
    "                transformed.append(char)\n",
    "            char = string[i]\n",
    "            count = 1\n",
    "            \n",
    "    if count > 1:\n",
    "        transformed.append(char + str(count))\n",
    "    else:\n",
    "        transformed.append(char)\n",
    "\n",
    "    return ''.join(transformed)\n",
    "\n",
    "\n",
    "if __name__ == \"__main__\":\n",
    "    string = input().strip()\n",
    "    print(stringTransformer(string))\n"
   ]
  },
  {
   "cell_type": "code",
   "execution_count": null,
   "id": "e4375a9d",
   "metadata": {},
   "outputs": [],
   "source": []
  }
 ],
 "metadata": {
  "kernelspec": {
   "display_name": "Python 3",
   "language": "python",
   "name": "python3"
  },
  "language_info": {
   "codemirror_mode": {
    "name": "ipython",
    "version": 3
   },
   "file_extension": ".py",
   "mimetype": "text/x-python",
   "name": "python",
   "nbconvert_exporter": "python",
   "pygments_lexer": "ipython3",
   "version": "3.8.8"
  }
 },
 "nbformat": 4,
 "nbformat_minor": 5
}
