{
 "cells": [
  {
   "cell_type": "code",
   "execution_count": 1,
   "metadata": {
    "collapsed": true,
    "pycharm": {
     "name": "#%%\n"
    }
   },
   "outputs": [],
   "source": [
    "import requests\n",
    "from pyquery import PyQuery as pq"
   ]
  },
  {
   "cell_type": "code",
   "execution_count": 2,
   "outputs": [],
   "source": [
    "def write_to_file(content, filename):\n",
    "    content = content.strip()\n",
    "    if not content:\n",
    "        return\n",
    "    with open(filename, 'a', encoding='utf-8') as f:\n",
    "        f.write(content + '\\n')"
   ],
   "metadata": {
    "collapsed": false,
    "pycharm": {
     "name": "#%%\n"
    }
   }
  },
  {
   "cell_type": "code",
   "execution_count": 3,
   "outputs": [],
   "source": [
    "save_bio_urls_path = \"bio_urls.txt\"\n",
    "save_courses_taught_path = \"courses_taught.txt\"\n",
    "save_bios_path = \"bios.txt\""
   ],
   "metadata": {
    "collapsed": false,
    "pycharm": {
     "name": "#%%\n"
    }
   }
  },
  {
   "cell_type": "code",
   "execution_count": 4,
   "outputs": [],
   "source": [
    "headers = {\n",
    "    \"Accept\": \"text/html, */*; q=0.01\",\n",
    "    \"Accept-Language\": \"zh-CN,zh;q=0.9\",\n",
    "    \"Cache-Control\": \"no-cache\",\n",
    "    \"Connection\": \"keep-alive\",\n",
    "    \"Content-Type\": \"application/x-www-form-urlencoded; charset=UTF-8\",\n",
    "    \"Origin\": \"https://cs.indiana.edu\",\n",
    "    \"Pragma\": \"no-cache\",\n",
    "    \"Referer\": \"https://cs.indiana.edu/faculty-directory/index.html?&type=5&aca_dept=1&alpha=undefined\",\n",
    "    \"Sec-Fetch-Dest\": \"empty\",\n",
    "    \"Sec-Fetch-Mode\": \"cors\",\n",
    "    \"Sec-Fetch-Site\": \"same-origin\",\n",
    "    \"User-Agent\": \"Mozilla/5.0 (Windows NT 10.0; Win64; x64) AppleWebKit/537.36 (KHTML, like Gecko) Chrome/116.0.0.0 Safari/537.36\",\n",
    "    \"X-Requested-With\": \"XMLHttpRequest\",\n",
    "    \"sec-ch-ua\": \"\\\"Chromium\\\";v=\\\"116\\\", \\\"Not)A;Brand\\\";v=\\\"24\\\", \\\"Google Chrome\\\";v=\\\"116\\\"\",\n",
    "    \"sec-ch-ua-mobile\": \"?0\",\n",
    "    \"sec-ch-ua-platform\": \"\\\"Windows\\\"\"\n",
    "}\n",
    "cookies = {\n",
    "    \"f5avraaaaaaaaaaaaaaaa_session_\": \"DNJICBLKJNNDLFMNIGEIMNINBNNPEIHLJEFICLJDGBLOLKCBEFNFONBPBELINJCMIGPDLAIEKKMMKICBCCBAPKJBOCAKJKICIMMLHFOOGJMCDPNFNFJLDLKEPGNNAPDC\",\n",
    "    \"BIGipServer~EWTS-L-Sitehost-Prod~Shared~prod-web-pool\": \"242962186.47873.0000\",\n",
    "    \"_ga\": \"GA1.2.565507505.1694753166\",\n",
    "    \"_gid\": \"GA1.2.1121481511.1694753166\",\n",
    "    \"_gat_UA-134139682-3\": \"1\"\n",
    "}"
   ],
   "metadata": {
    "collapsed": false,
    "pycharm": {
     "name": "#%%\n"
    }
   }
  },
  {
   "cell_type": "code",
   "execution_count": 5,
   "outputs": [
    {
     "name": "stdout",
     "output_type": "stream",
     "text": [
      "<Response [200]>\n"
     ]
    }
   ],
   "source": [
    "url = \"https://cs.indiana.edu/_php/sice/people-directory/people-query.php\"\n",
    "data = {\n",
    "    \"letter\": \"\",\n",
    "    \"type\": \"2\",\n",
    "    \"research\": \"\",\n",
    "    \"aca_dept\": \"1\",\n",
    "    \"admin_dept\": \"\",\n",
    "    \"pageSet\": \"faculty_sice\",\n",
    "    \"limit\": \"200\",\n",
    "    \"name_search\": \"\"\n",
    "}\n",
    "response = requests.post(url, headers=headers, cookies=cookies, data=data)\n",
    "\n",
    "print(response)\n",
    "doc = pq(response.text)"
   ],
   "metadata": {
    "collapsed": false,
    "pycharm": {
     "name": "#%%\n"
    }
   }
  },
  {
   "cell_type": "code",
   "execution_count": 6,
   "outputs": [
    {
     "name": "stdout",
     "output_type": "stream",
     "text": [
      "<article class=\"profile feed-item\" itemscope=\"itemscope\" itemtype=\"http://schema.org/Person\"><figure class=\"media image circle\" itemscope=\"itemscope\" itemtype=\"http://schema.org/ImageObject\" onclick=\"window.location.href='/contact/profile/index.html?Carlo_Angiuli'\"><img src=\"/images/people/carlo-angiuli-2023-08.jpg\" alt=\"Profile image of Carlo Angiuli \" /></figure><div class=\"content\"><p class=\"title no-margin title\"><a href=\"/contact/profile/index.html?Carlo_Angiuli\" itemprop=\"url\"><span class=\"NameHeader\" itemprop=\"name\">Carlo Angiuli</span></a></p><p class=\"sub-title\">Assistant Professor</p><dl class=\"meta inline\"><dt style=\"display:none;\">email:</dt><dd><a rel=\"nofollow\" href=\"mailto:cangiuli@indiana.edu\" class=\"email\">cangiuli@indiana.edu</a></dd> </dl></div></article><article class=\"profile feed-item\" itemscope=\"itemscope\" itemtype=\"http://schema.org/Person\"><figure class=\"media image circle\" itemscope=\"itemscope\" itemtype=\"http://schema.org/ImageObject\" onclick=\"window.location.href='/contact/profile/index.html?Nazim_Ashraf'\"><img src=\"/images/people/nazim-ashraf-12-2022.jpg\" alt=\"Profile image of Nazim Ashraf \" /></figure><div class=\"content\"><p class=\"title no-margin title\"><a href=\"/contact/profile/index.html?Nazim_Ashraf\" itemprop=\"url\"><span class=\"NameHeader\" itemprop=\"name\">Nazim Ashraf</span></a></p><p class=\"sub-title\">Senior Lecturer</p><dl class=\"meta inline\"><dt style=\"display:none;\">email:</dt><dd><a rel=\"nofollow\" href=\"mailto:naashr@iu.edu\" class=\"email\">naashr@iu.edu</a></dd>  | <dt style=\"display:none;\">phone:</dt><dd><a rel=\"nofollow\" href=\"tel:+1(812) 855-2037\" itemprop=\"telephone\">(812) 855-2037</a></dd> </dl></div></article><article class=\"profile feed-item\" itemscope=\"itemscope\" itemtype=\"http://schema.org/Person\"><figure class=\"media image circle\" itemscope=\"itemscope\" itemtype=\"http://schema.org/ImageObject\" onclick=\"window.location.href='/contact/profile/index.html?Hamidreza_Bahramian'\"><img src=\"/images/people/hamidreza-bahramian-08-2022.jpg\" alt=\"Profile image of Hamidreza Bahramian \" /></figure><div class=\"content\"><p class=\"title no-margin title\"><a href=\"/contact/profile/index.html?Hamidreza_Bahramian\" itemprop=\"url\"><span class=\"NameHeader\" itemprop=\"name\">Hamidreza Bahramian</span></a></p><p class=\"sub-title\">Lecturer</p><dl class=\"meta inline\"><dt style=\"display:none;\">email:</dt><dd><a rel=\"nofollow\" href=\"mailto:habahram@iu.edu\" class=\"email\">habahram@iu.edu</a></dd>  | <dt style=\"display:none;\">phone:</dt><dd><a rel=\"nofollow\" href=\"tel:+1(812) 856-5230\" itemprop=\"telephone\">(812) 856-5230</a></dd> </dl></div></article><article class=\"profile feed-item\" itemscope=\"itemscope\" itemtype=\"http://schema.org/Person\"><figure class=\"media image circle\" itemscope=\"itemscope\" itemtype=\"http://schema.org/ImageObject\" onclick=\"window.location.href='/contact/profile/index.html?Saúl_Blanco'\"><img src=\"/images/people/blanco-saul-2014-03.jpg\" alt=\"Profile image of Saúl Blanco \" /></figure><div class=\"content\"><p class=\"title no-margin title\"><a href=\"/contact/profile/index.html?Saúl_Blanco\" itemprop=\"url\"><span class=\"NameHeader\" itemprop=\"name\">Saúl Blanco</span></a></p><p class=\"sub-title\">Assistant Professor</p><dl class=\"meta inline\"><dt style=\"display:none;\">email:</dt><dd><a rel=\"nofollow\" href=\"mailto:sblancor@indiana.edu\" class=\"email\">sblancor@indiana.edu</a></dd> </dl></div></article><article class=\"profile feed-item\" itemscope=\"itemscope\" itemtype=\"http://schema.org/Person\"><figure class=\"media image circle\" itemscope=\"itemscope\" itemtype=\"http://schema.org/ImageObject\" onclick=\"window.location.href='/contact/profile/index.html?Volker_Brendel'\"><img src=\"/images/people/brendel-volker.jpg\" alt=\"Profile image of Volker Brendel \" /></figure><div class=\"content\"><p class=\"title no-margin title\"><a href=\"/contact/profile/index.html?Volker_Brendel\" itemprop=\"url\"><span class=\"NameHeader\" itemprop=\"name\">Volker Brendel</span></a></p><p class=\"sub-title\">Director of Bioinformatics<br />Professor of Biology and Computer Science</p><dl class=\"meta inline\"><dt style=\"display:none;\">email:</dt><dd><a rel=\"nofollow\" href=\"mailto:vbrendel@indiana.edu\" class=\"email\">vbrendel@indiana.edu</a></dd>  | <dt style=\"display:none;\">phone:</dt><dd><a rel=\"nofollow\" href=\"tel:+1(812) 855-7074\" itemprop=\"telephone\">(812) 855-7074</a></dd> </dl></div></article><article class=\"profile feed-item\" itemscope=\"itemscope\" itemtype=\"http://schema.org/Person\"><figure class=\"media image circle\" itemscope=\"itemscope\" itemtype=\"http://schema.org/ImageObject\" onclick=\"window.location.href='/contact/profile/index.html?Geoffrey_Brown'\"><img src=\"/images/people/brown-geoffrey.jpg\" alt=\"Profile image of Geoffrey Brown \" /></figure><div class=\"content\"><p class=\"title no-margin title\"><a href=\"/contact/profile/index.html?Geoffrey_Brown\" itemprop=\"url\"><span class=\"NameHeader\" itemprop=\"name\">Geoffrey Brown</span></a></p><p class=\"sub-title\">Professor of Computer Science</p><dl class=\"meta inline\"><dt style=\"display:none;\">email:</dt><dd><a rel=\"nofollow\" href=\"mailto:geobrown@cs.indiana.edu\" class=\"email\">geobrown@cs.indiana.edu</a></dd> </dl></div></article><article class=\"profile feed-item\" itemscope=\"itemscope\" itemtype=\"http://schema.org/Person\"><figure class=\"media image circle\" itemscope=\"itemscope\" itemtype=\"http://schema.org/ImageObject\" onclick=\"window.location.href='/contact/profile/index.html?Jean_Camp'\"><img src=\"/images/people/camp-jean-2016-01.jpg\" alt=\"Profile image of Jean Camp \" /></figure><div class=\"content\"><p class=\"title no-margin title\"><a href=\"/contact/profile/index.html?Jean_Camp\" itemprop=\"url\"><span class=\"NameHeader\" itemprop=\"name\">Jean Camp</span></a></p><p class=\"sub-title\">Director of Center for Security and Privacy in Informatics, Computing, and Engineering<br />Professor of Informatics</p><dl class=\"meta inline\"><dt style=\"display:none;\">email:</dt><dd><a rel=\"nofollow\" href=\"mailto:ljcamp@indiana.edu\" class=\"email\">ljcamp@indiana.edu</a></dd>  | <dt style=\"display:none;\">phone:</dt><dd><a rel=\"nofollow\" href=\"tel:+1(812) 856-1865\" itemprop=\"telephone\">(812) 856-1865</a></dd> </dl></div></article><article class=\"profile feed-item\" itemscope=\"itemscope\" itemtype=\"http://schema.org/Person\"><figure class=\"media image circle\" itemscope=\"itemscope\" itemtype=\"http://schema.org/ImageObject\" onclick=\"window.location.href='/contact/profile/index.html?David_Crandall'\"><img src=\"/images/people/crandall-david-06-21.jpg\" alt=\"Profile image of David Crandall \" /></figure><div class=\"content\"><p class=\"title no-margin title\"><a href=\"/contact/profile/index.html?David_Crandall\" itemprop=\"url\"><span class=\"NameHeader\" itemprop=\"name\">David Crandall</span></a></p><p class=\"sub-title\">Luddy Professor of Computer Science<br />Director of Luddy Artificial Intelligence Center</p><dl class=\"meta inline\"><dt style=\"display:none;\">email:</dt><dd><a rel=\"nofollow\" href=\"mailto:djcran@indiana.edu\" class=\"email\">djcran@indiana.edu</a></dd>  | <dt style=\"display:none;\">phone:</dt><dd><a rel=\"nofollow\" href=\"tel:+1(812) 856-1115\" itemprop=\"telephone\">(812) 856-1115</a></dd> </dl></div></article><article class=\"profile feed-item\" itemscope=\"itemscope\" itemtype=\"http://schema.org/Person\"><figure class=\"media image circle\" itemscope=\"itemscope\" itemtype=\"http://schema.org/ImageObject\" onclick=\"window.location.href='/contact/profile/index.html?Mehmet_Dalkilic'\"><img src=\"/images/people/dalkilic-memo-2018-08.jpg\" alt=\"Profile image of Mehmet Dalkilic \" /></figure><div class=\"content\"><p class=\"title no-margin title\"><a href=\"/contact/profile/index.html?Mehmet_Dalkilic\" itemprop=\"url\"><span class=\"NameHeader\" itemprop=\"name\">Mehmet Dalkilic</span></a></p><p class=\"sub-title\">Director of Undergraduate Studies for Data Science<br />Professor of Computer Science</p><dl class=\"meta inline\"><dt style=\"display:none;\">email:</dt><dd><a rel=\"nofollow\" href=\"mailto:dalkilic@indiana.edu\" class=\"email\">dalkilic@indiana.edu</a></dd>  | <dt style=\"display:none;\">phone:</dt><dd><a rel=\"nofollow\" href=\"tel:+1(812) 856-3010\" itemprop=\"telephone\">(812) 856-3010</a></dd> </dl></div></article><article class=\"profile feed-item\" itemscope=\"itemscope\" itemtype=\"http://schema.org/Person\"><figure class=\"media image circle\" itemscope=\"itemscope\" itemtype=\"http://schema.org/ImageObject\" onclick=\"window.location.href='/contact/profile/index.html?Funda_Ergun'\"><img src=\"/images/people/ergun-funda.jpg\" alt=\"Profile image of Funda Ergun \" /></figure><div class=\"content\"><p class=\"title no-margin title\"><a href=\"/contact/profile/index.html?Funda_Ergun\" itemprop=\"url\"><span class=\"NameHeader\" itemprop=\"name\">Funda Ergun</span></a></p><p class=\"sub-title\">Professor of Computer Science</p><dl class=\"meta inline\"><dt style=\"display:none;\">email:</dt><dd><a rel=\"nofollow\" href=\"mailto:fergun@indiana.edu\" class=\"email\">fergun@indiana.edu</a></dd> </dl></div></article><article class=\"profile feed-item\" itemscope=\"itemscope\" itemtype=\"http://schema.org/Person\"><figure class=\"media image circle\" itemscope=\"itemscope\" itemtype=\"http://schema.org/ImageObject\" onclick=\"window.location.href='/contact/profile/index.html?Daniel_Friedman'\"><img src=\"/images/people/friedman-dan-2014-04.jpg\" alt=\"Profile image of Daniel Friedman \" /></figure><div class=\"content\"><p class=\"title no-margin title\"><a href=\"/contact/profile/index.html?Daniel_Friedman\" itemprop=\"url\"><span class=\"NameHeader\" itemprop=\"name\">Daniel Friedman</span></a></p><p class=\"sub-title\">Professor of Computer Science</p><dl class=\"meta inline\"><dt style=\"display:none;\">email:</dt><dd><a rel=\"nofollow\" href=\"mailto:dfried@indiana.edu\" class=\"email\">dfried@indiana.edu</a></dd>  | <dt style=\"display:none;\">phone:</dt><dd><a rel=\"nofollow\" href=\"tel:+1(812) 855-4885\" itemprop=\"telephone\">(812) 855-4885</a></dd> </dl></div></article><article class=\"profile feed-item\" itemscope=\"itemscope\" itemtype=\"http://schema.org/Person\"><figure class=\"media image circle\" itemscope=\"itemscope\" itemtype=\"http://schema.org/ImageObject\" onclick=\"window.location.href='/contact/profile/index.html?Dan-Adrian_German'\"><img src=\"/images/people/dgerman.jpg\" alt=\"Profile image of Dan-Adrian German \" /></figure><div class=\"content\"><p class=\"title no-margin title\"><a href=\"/contact/profile/index.html?Dan-Adrian_German\" itemprop=\"url\"><span class=\"NameHeader\" itemprop=\"name\">Dan-Adrian German</span></a></p><p class=\"sub-title\">Senior Lecturer</p><dl class=\"meta inline\"><dt style=\"display:none;\">email:</dt><dd><a rel=\"nofollow\" href=\"mailto:dgerman@indiana.edu\" class=\"email\">dgerman@indiana.edu</a></dd>  | <dt style=\"display:none;\">phone:</dt><dd><a rel=\"nofollow\" href=\"tel:+1(812) 855-7860\" itemprop=\"telephone\">(812) 855-7860</a></dd> </dl></div></article><article class=\"profile feed-item\" itemscope=\"itemscope\" itemtype=\"http://schema.org/Person\"><figure class=\"media image circle\" itemscope=\"itemscope\" itemtype=\"http://schema.org/ImageObject\" onclick=\"window.location.href='/contact/profile/index.html?Matthew_Hahn'\"><img src=\"/images/people/matthew-hahn-2022-04.jpg\" alt=\"Profile image of Matthew Hahn \" /></figure><div class=\"content\"><p class=\"title no-margin title\"><a href=\"/contact/profile/index.html?Matthew_Hahn\" itemprop=\"url\"><span class=\"NameHeader\" itemprop=\"name\">Matthew Hahn</span></a></p><p class=\"sub-title\">Distinguished Professor of Computer Science</p><dl class=\"meta inline\"><dt style=\"display:none;\">email:</dt><dd><a rel=\"nofollow\" href=\"mailto:mwh@indiana.edu\" class=\"email\">mwh@indiana.edu</a></dd>  | <dt style=\"display:none;\">phone:</dt><dd><a rel=\"nofollow\" href=\"tel:+1(812) 856-7001\" itemprop=\"telephone\">(812) 856-7001</a></dd> </dl></div></article><article class=\"profile feed-item\" itemscope=\"itemscope\" itemtype=\"http://schema.org/Person\"><figure class=\"media image circle\" itemscope=\"itemscope\" itemtype=\"http://schema.org/ImageObject\" onclick=\"window.location.href='/contact/profile/index.html?Mohsen_Heidari'\"><img src=\"/images/people/mohsen-heidari-2022-08.jpg\" alt=\"Profile image of Mohsen Heidari \" /></figure><div class=\"content\"><p class=\"title no-margin title\"><a href=\"/contact/profile/index.html?Mohsen_Heidari\" itemprop=\"url\"><span class=\"NameHeader\" itemprop=\"name\">Mohsen Heidari</span></a></p><p class=\"sub-title\">Assistant Professor of Computer Science</p><dl class=\"meta inline\"><dt style=\"display:none;\">email:</dt><dd><a rel=\"nofollow\" href=\"mailto:mheidar@iu.edu\" class=\"email\">mheidar@iu.edu</a></dd> </dl></div></article><article class=\"profile feed-item\" itemscope=\"itemscope\" itemtype=\"http://schema.org/Person\"><figure class=\"media image circle\" itemscope=\"itemscope\" itemtype=\"http://schema.org/ImageObject\" onclick=\"window.location.href='/contact/profile/index.html?Mitja_Hmeljak'\"><img src=\"/images/people/hmeljake-mitja-2014-02.jpg\" alt=\"Profile image of Mitja Hmeljak \" /></figure><div class=\"content\"><p class=\"title no-margin title\"><a href=\"/contact/profile/index.html?Mitja_Hmeljak\" itemprop=\"url\"><span class=\"NameHeader\" itemprop=\"name\">Mitja Hmeljak</span></a></p><p class=\"sub-title\">Senior Lecturer</p><dl class=\"meta inline\"><dt style=\"display:none;\">email:</dt><dd><a rel=\"nofollow\" href=\"mailto:mitja@indiana.edu\" class=\"email\">mitja@indiana.edu</a></dd>  | <dt style=\"display:none;\">phone:</dt><dd><a rel=\"nofollow\" href=\"tel:+1(812) 855-7198\" itemprop=\"telephone\">(812) 855-7198</a></dd> </dl></div></article><article class=\"profile feed-item\" itemscope=\"itemscope\" itemtype=\"http://schema.org/Person\"><figure class=\"media image circle\" itemscope=\"itemscope\" itemtype=\"http://schema.org/ImageObject\" onclick=\"window.location.href='/contact/profile/index.html?Douglas_Hofstadter'\"><img src=\"/images/people/hofstadter-douglas.jpg\" alt=\"Profile image of Douglas Hofstadter \" /></figure><div class=\"content\"><p class=\"title no-margin title\"><a href=\"/contact/profile/index.html?Douglas_Hofstadter\" itemprop=\"url\"><span class=\"NameHeader\" itemprop=\"name\">Douglas Hofstadter</span></a></p><p class=\"sub-title\">College of Arts and Sciences Distinguished Professor of Cognitive Science and Computer Science</p><dl class=\"meta inline\"><dt style=\"display:none;\">email:</dt><dd><a rel=\"nofollow\" href=\"mailto:dughof@indiana.edu\" class=\"email\">dughof@indiana.edu</a></dd>  | <dt style=\"display:none;\">phone:</dt><dd><a rel=\"nofollow\" href=\"tel:+1(812) 855-6964\" itemprop=\"telephone\">(812) 855-6964</a></dd> </dl></div></article><article class=\"profile feed-item\" itemscope=\"itemscope\" itemtype=\"http://schema.org/Person\"><figure class=\"media image circle\" itemscope=\"itemscope\" itemtype=\"http://schema.org/ImageObject\" onclick=\"window.location.href='/contact/profile/index.html?Yan_Huang'\"><img src=\"/images/people/huang-yan-2014-12.jpg\" alt=\"Profile image of Yan Huang \" /></figure><div class=\"content\"><p class=\"title no-margin title\"><a href=\"/contact/profile/index.html?Yan_Huang\" itemprop=\"url\"><span class=\"NameHeader\" itemprop=\"name\">Yan Huang</span></a></p><p class=\"sub-title\">Director of Graduate Studies for Computer Science<br />Associate Professor of Computer Science</p><dl class=\"meta inline\"><dt style=\"display:none;\">email:</dt><dd><a rel=\"nofollow\" href=\"mailto:yh33@indiana.edu\" class=\"email\">yh33@indiana.edu</a></dd>  | <dt style=\"display:none;\">phone:</dt><dd><a rel=\"nofollow\" href=\"tel:+1(812) 856-3241\" itemprop=\"telephone\">(812) 856-3241</a></dd> </dl></div></article><article class=\"profile feed-item\" itemscope=\"itemscope\" itemtype=\"http://schema.org/Person\"><figure class=\"media image circle\" itemscope=\"itemscope\" itemtype=\"http://schema.org/ImageObject\" onclick=\"window.location.href='/contact/profile/index.html?Apu_Kapadia'\"><img src=\"/images/people/apu-kapadia-2018-09.jpg\" alt=\"Profile image of Apu Kapadia \" /></figure><div class=\"content\"><p class=\"title no-margin title\"><a href=\"/contact/profile/index.html?Apu_Kapadia\" itemprop=\"url\"><span class=\"NameHeader\" itemprop=\"name\">Apu Kapadia</span></a></p><p class=\"sub-title\">Associate Dean for Graduate Studies<br />Professor of Computer Science</p><dl class=\"meta inline\"><dt style=\"display:none;\">email:</dt><dd><a rel=\"nofollow\" href=\"mailto:kapadia@indiana.edu\" class=\"email\">kapadia@indiana.edu</a></dd>  | <dt style=\"display:none;\">phone:</dt><dd><a rel=\"nofollow\" href=\"tel:+1(812) 856-1465\" itemprop=\"telephone\">(812) 856-1465</a></dd> </dl></div></article><article class=\"profile feed-item\" itemscope=\"itemscope\" itemtype=\"http://schema.org/Person\"><figure class=\"media image circle\" itemscope=\"itemscope\" itemtype=\"http://schema.org/ImageObject\" onclick=\"window.location.href='/contact/profile/index.html?Roni_Khardon'\"><img src=\"/images/people/roni-khardon-2018-09.jpg\" alt=\"Profile image of Roni Khardon \" /></figure><div class=\"content\"><p class=\"title no-margin title\"><a href=\"/contact/profile/index.html?Roni_Khardon\" itemprop=\"url\"><span class=\"NameHeader\" itemprop=\"name\">Roni Khardon</span></a></p><p class=\"sub-title\">Professor of Computer Science</p><dl class=\"meta inline\"><dt style=\"display:none;\">email:</dt><dd><a rel=\"nofollow\" href=\"mailto:rkhardon@iu.edu\" class=\"email\">rkhardon@iu.edu</a></dd>  | <dt style=\"display:none;\">phone:</dt><dd><a rel=\"nofollow\" href=\"tel:+1(812) 855-4075\" itemprop=\"telephone\">(812) 855-4075</a></dd> </dl></div></article><article class=\"profile feed-item\" itemscope=\"itemscope\" itemtype=\"http://schema.org/Person\"><figure class=\"media image circle\" itemscope=\"itemscope\" itemtype=\"http://schema.org/ImageObject\" onclick=\"window.location.href='/contact/profile/index.html?Oguzhan_Kulekci~'\"><img src=\"/images/people/oguzhan-kulekci-12-2022.jpg\" alt=\"Profile image of Oguzhan Kulekci  \" /></figure><div class=\"content\"><p class=\"title no-margin title\"><a href=\"/contact/profile/index.html?Oguzhan_Kulekci~\" itemprop=\"url\"><span class=\"NameHeader\" itemprop=\"name\">Oguzhan Kulekci </span></a></p><p class=\"sub-title\">Visiting Professor in Computer Science</p><dl class=\"meta inline\"><dt style=\"display:none;\">email:</dt><dd><a rel=\"nofollow\" href=\"mailto:okulekci@iu.edu\" class=\"email\">okulekci@iu.edu</a></dd> </dl></div></article><article class=\"profile feed-item\" itemscope=\"itemscope\" itemtype=\"http://schema.org/Person\"><figure class=\"media image circle\" itemscope=\"itemscope\" itemtype=\"http://schema.org/ImageObject\" onclick=\"window.location.href='/contact/profile/index.html?David_Leake'\"><img src=\"/images/people/david-leake-12-2022.jpg\" alt=\"Profile image of David Leake \" /></figure><div class=\"content\"><p class=\"title no-margin title\"><a href=\"/contact/profile/index.html?David_Leake\" itemprop=\"url\"><span class=\"NameHeader\" itemprop=\"name\">David Leake</span></a></p><p class=\"sub-title\">Professor of Computer Science<br /></p><dl class=\"meta inline\"><dt style=\"display:none;\">email:</dt><dd><a rel=\"nofollow\" href=\"mailto:leake@indiana.edu\" class=\"email\">leake@indiana.edu</a></dd>  | <dt style=\"display:none;\">phone:</dt><dd><a rel=\"nofollow\" href=\"tel:+1(812) 855-9756\" itemprop=\"telephone\">(812) 855-9756</a></dd> </dl></div></article><article class=\"profile feed-item\" itemscope=\"itemscope\" itemtype=\"http://schema.org/Person\"><figure class=\"media image circle\" itemscope=\"itemscope\" itemtype=\"http://schema.org/ImageObject\" onclick=\"window.location.href='/contact/profile/index.html?Daniel_Leivant'\"><img src=\"/images/people/dleviant.jpg\" alt=\"Profile image of Daniel Leivant \" /></figure><div class=\"content\"><p class=\"title no-margin title\"><a href=\"/contact/profile/index.html?Daniel_Leivant\" itemprop=\"url\"><span class=\"NameHeader\" itemprop=\"name\">Daniel Leivant</span></a></p><p class=\"sub-title\">Professor of Computer Science</p><dl class=\"meta inline\"><dt style=\"display:none;\">email:</dt><dd><a rel=\"nofollow\" href=\"mailto:leivant@indiana.edu\" class=\"email\">leivant@indiana.edu</a></dd>  | <dt style=\"display:none;\">phone:</dt><dd><a rel=\"nofollow\" href=\"tel:+1(812) 855-6221\" itemprop=\"telephone\">(812) 855-6221</a></dd> </dl></div></article><article class=\"profile feed-item\" itemscope=\"itemscope\" itemtype=\"http://schema.org/Person\"><figure class=\"media image circle\" itemscope=\"itemscope\" itemtype=\"http://schema.org/ImageObject\" onclick=\"window.location.href='/contact/profile/index.html?Xiaojing_Liao'\"><img src=\"/images/people/liao-xiaojing-5-2023.jpg\" alt=\"Profile image of Xiaojing Liao \" /></figure><div class=\"content\"><p class=\"title no-margin title\"><a href=\"/contact/profile/index.html?Xiaojing_Liao\" itemprop=\"url\"><span class=\"NameHeader\" itemprop=\"name\">Xiaojing Liao</span></a></p><p class=\"sub-title\">Assistant Professor of Computer Science</p><dl class=\"meta inline\"><dt style=\"display:none;\">email:</dt><dd><a rel=\"nofollow\" href=\"mailto:xliao@iu.edu\" class=\"email\">xliao@iu.edu</a></dd> </dl></div></article><article class=\"profile feed-item\" itemscope=\"itemscope\" itemtype=\"http://schema.org/Person\"><figure class=\"media image circle\" itemscope=\"itemscope\" itemtype=\"http://schema.org/ImageObject\" onclick=\"window.location.href='/contact/profile/index.html?Vel_Malbasa'\"><img src=\"/images/people/malbasa-vel.jpg\" alt=\"Profile image of Vel Malbasa \" /></figure><div class=\"content\"><p class=\"title no-margin title\"><a href=\"/contact/profile/index.html?Vel_Malbasa\" itemprop=\"url\"><span class=\"NameHeader\" itemprop=\"name\">Vel Malbasa</span></a></p><p class=\"sub-title\">Clinical Professor</p><dl class=\"meta inline\"><dt style=\"display:none;\">email:</dt><dd><a rel=\"nofollow\" href=\"mailto:vmalbasa@indiana.edu\" class=\"email\">vmalbasa@indiana.edu</a></dd>  | <dt style=\"display:none;\">phone:</dt><dd><a rel=\"nofollow\" href=\"tel:+1(812) 856-1872\" itemprop=\"telephone\">(812) 856-1872</a></dd> </dl></div></article><article class=\"profile feed-item\" itemscope=\"itemscope\" itemtype=\"http://schema.org/Person\"><figure class=\"media image circle\" itemscope=\"itemscope\" itemtype=\"http://schema.org/ImageObject\" onclick=\"window.location.href='/contact/profile/index.html?Michael_McRobbie'\"><img src=\"/images/people/michael-mcrobbie-12-2022.jpg\" alt=\"Profile image of Michael McRobbie \" /></figure><div class=\"content\"><p class=\"title no-margin title\"><a href=\"/contact/profile/index.html?Michael_McRobbie\" itemprop=\"url\"><span class=\"NameHeader\" itemprop=\"name\">Michael McRobbie</span></a></p><p class=\"sub-title\">University Chancellor<br />President Emeritus</p><dl class=\"meta inline\"><dt style=\"display:none;\">email:</dt><dd><a rel=\"nofollow\" href=\"mailto:mcrobbie@indiana.edu\" class=\"email\">mcrobbie@indiana.edu</a></dd>  | <dt style=\"display:none;\">phone:</dt><dd><a rel=\"nofollow\" href=\"tel:+1(812) 855-0518\" itemprop=\"telephone\">(812) 855-0518</a></dd> </dl></div></article><article class=\"profile feed-item\" itemscope=\"itemscope\" itemtype=\"http://schema.org/Person\"><figure class=\"media image circle\" itemscope=\"itemscope\" itemtype=\"http://schema.org/ImageObject\" onclick=\"window.location.href='/contact/profile/index.html?Charles_Pope'\"><img src=\"/images/people/pope-charlie-2014-03.jpg\" alt=\"Profile image of Charles Pope \" /></figure><div class=\"content\"><p class=\"title no-margin title\"><a href=\"/contact/profile/index.html?Charles_Pope\" itemprop=\"url\"><span class=\"NameHeader\" itemprop=\"name\">Charles Pope</span></a></p><p class=\"sub-title\">Assistant Chair, Computer Science<br />Senior Lecturer</p><dl class=\"meta inline\"><dt style=\"display:none;\">email:</dt><dd><a rel=\"nofollow\" href=\"mailto:cepope@indiana.edu\" class=\"email\">cepope@indiana.edu</a></dd>  | <dt style=\"display:none;\">phone:</dt><dd><a rel=\"nofollow\" href=\"tel:+1(812) 855-4647\" itemprop=\"telephone\">(812) 855-4647</a></dd> </dl></div></article><article class=\"profile feed-item\" itemscope=\"itemscope\" itemtype=\"http://schema.org/Person\"><figure class=\"media image circle\" itemscope=\"itemscope\" itemtype=\"http://schema.org/ImageObject\" onclick=\"window.location.href='/contact/profile/index.html?Christopher_Raphael'\"><img src=\"/images/people/craphael.jpg\" alt=\"Profile image of Christopher Raphael \" /></figure><div class=\"content\"><p class=\"title no-margin title\"><a href=\"/contact/profile/index.html?Christopher_Raphael\" itemprop=\"url\"><span class=\"NameHeader\" itemprop=\"name\">Christopher Raphael</span></a></p><p class=\"sub-title\">Director of Intelligent Interactive Systems Ph.D. track<br />Professor of Music Informatics</p><dl class=\"meta inline\"><dt style=\"display:none;\">email:</dt><dd><a rel=\"nofollow\" href=\"mailto:craphael@indiana.edu\" class=\"email\">craphael@indiana.edu</a></dd>  | <dt style=\"display:none;\">phone:</dt><dd><a rel=\"nofollow\" href=\"tel:+1(812) 856-1849\" itemprop=\"telephone\">(812) 856-1849</a></dd> </dl></div></article><article class=\"profile feed-item\" itemscope=\"itemscope\" itemtype=\"http://schema.org/Person\"><figure class=\"media image circle\" itemscope=\"itemscope\" itemtype=\"http://schema.org/ImageObject\" onclick=\"window.location.href='/contact/profile/index.html?Gregory_Rawlins'\"><img src=\"/images/people/rawlins.jpg\" alt=\"Profile image of Gregory Rawlins \" /></figure><div class=\"content\"><p class=\"title no-margin title\"><a href=\"/contact/profile/index.html?Gregory_Rawlins\" itemprop=\"url\"><span class=\"NameHeader\" itemprop=\"name\">Gregory Rawlins</span></a></p><p class=\"sub-title\">Associate Professor of Computer Science</p><dl class=\"meta inline\"><dt style=\"display:none;\">email:</dt><dd><a rel=\"nofollow\" href=\"mailto:rawlins@indiana.edu\" class=\"email\">rawlins@indiana.edu</a></dd>  | <dt style=\"display:none;\">phone:</dt><dd><a rel=\"nofollow\" href=\"tel:+1(812) 855-3952\" itemprop=\"telephone\">(812) 855-3952</a></dd> </dl></div></article><article class=\"profile feed-item\" itemscope=\"itemscope\" itemtype=\"http://schema.org/Person\"><figure class=\"media image circle\" itemscope=\"itemscope\" itemtype=\"http://schema.org/ImageObject\" onclick=\"window.location.href='/contact/profile/index.html?Amr_Sabry'\"><img src=\"/images/people/sabry-amr.jpg\" alt=\"Profile image of Amr Sabry \" /></figure><div class=\"content\"><p class=\"title no-margin title\"><a href=\"/contact/profile/index.html?Amr_Sabry\" itemprop=\"url\"><span class=\"NameHeader\" itemprop=\"name\">Amr Sabry</span></a></p><p class=\"sub-title\">Professor of Computer Science</p><dl class=\"meta inline\"><dt style=\"display:none;\">email:</dt><dd><a rel=\"nofollow\" href=\"mailto:sabry@indiana.edu\" class=\"email\">sabry@indiana.edu</a></dd>  | <dt style=\"display:none;\">phone:</dt><dd><a rel=\"nofollow\" href=\"tel:+1(812) 855-3668\" itemprop=\"telephone\">(812) 855-3668</a></dd> </dl></div></article><article class=\"profile feed-item\" itemscope=\"itemscope\" itemtype=\"http://schema.org/Person\"><figure class=\"media image circle\" itemscope=\"itemscope\" itemtype=\"http://schema.org/ImageObject\" onclick=\"window.location.href='/contact/profile/index.html?Kurt_Seiffert'\"><img src=\"/images/people/no-photo_lg.jpg\" alt=\"Profile image of Kurt Seiffert \" /></figure><div class=\"content\"><p class=\"title no-margin title\"><a href=\"/contact/profile/index.html?Kurt_Seiffert\" itemprop=\"url\"><span class=\"NameHeader\" itemprop=\"name\">Kurt Seiffert</span></a></p><p class=\"sub-title\">Lecturer</p><dl class=\"meta inline\"><dt style=\"display:none;\">email:</dt><dd><a rel=\"nofollow\" href=\"mailto:seiffert@iu.edu\" class=\"email\">seiffert@iu.edu</a></dd>  | <dt style=\"display:none;\">phone:</dt><dd><a rel=\"nofollow\" href=\"tel:+1(812) 856-0389\" itemprop=\"telephone\">(812) 856-0389</a></dd> </dl></div></article><article class=\"profile feed-item\" itemscope=\"itemscope\" itemtype=\"http://schema.org/Person\"><figure class=\"media image circle\" itemscope=\"itemscope\" itemtype=\"http://schema.org/ImageObject\" onclick=\"window.location.href='/contact/profile/index.html?Chung-chieh_Shan'\"><img src=\"/images/people/chung-chieh-shan-12-22.jpg\" alt=\"Profile image of Chung-chieh Shan \" /></figure><div class=\"content\"><p class=\"title no-margin title\"><a href=\"/contact/profile/index.html?Chung-chieh_Shan\" itemprop=\"url\"><span class=\"NameHeader\" itemprop=\"name\">Chung-chieh Shan</span></a></p><p class=\"sub-title\">Associate Professor</p><dl class=\"meta inline\"><dt style=\"display:none;\">email:</dt><dd><a rel=\"nofollow\" href=\"mailto:ccshan@indiana.edu\" class=\"email\">ccshan@indiana.edu</a></dd>  | <dt style=\"display:none;\">phone:</dt><dd><a rel=\"nofollow\" href=\"tel:+1(812) 856-4400\" itemprop=\"telephone\">(812) 856-4400</a></dd> </dl></div></article><article class=\"profile feed-item\" itemscope=\"itemscope\" itemtype=\"http://schema.org/Person\"><figure class=\"media image circle\" itemscope=\"itemscope\" itemtype=\"http://schema.org/ImageObject\" onclick=\"window.location.href='/contact/profile/index.html?Muazzam_Siddiqui'\"><img src=\"/images/people/muazzam-siddiqui-2021-10.jpg\" alt=\"Profile image of Muazzam Siddiqui \" /></figure><div class=\"content\"><p class=\"title no-margin title\"><a href=\"/contact/profile/index.html?Muazzam_Siddiqui\" itemprop=\"url\"><span class=\"NameHeader\" itemprop=\"name\">Muazzam Siddiqui</span></a></p><p class=\"sub-title\"></p><dl class=\"meta inline\"><dt style=\"display:none;\">email:</dt><dd><a rel=\"nofollow\" href=\"mailto:muazsidd@iu.edu\" class=\"email\">muazsidd@iu.edu</a></dd> </dl></div></article><article class=\"profile feed-item\" itemscope=\"itemscope\" itemtype=\"http://schema.org/Person\"><figure class=\"media image circle\" itemscope=\"itemscope\" itemtype=\"http://schema.org/ImageObject\" onclick=\"window.location.href='/contact/profile/index.html?Jeremy_Siek'\"><img src=\"/images/people/siek-jeremy-2015-09.jpg\" alt=\"Profile image of Jeremy Siek \" /></figure><div class=\"content\"><p class=\"title no-margin title\"><a href=\"/contact/profile/index.html?Jeremy_Siek\" itemprop=\"url\"><span class=\"NameHeader\" itemprop=\"name\">Jeremy Siek</span></a></p><p class=\"sub-title\">Professor</p><dl class=\"meta inline\"><dt style=\"display:none;\">email:</dt><dd><a rel=\"nofollow\" href=\"mailto:jsiek@indiana.edu\" class=\"email\">jsiek@indiana.edu</a></dd>  | <dt style=\"display:none;\">phone:</dt><dd><a rel=\"nofollow\" href=\"tel:+1(812) 855-7241\" itemprop=\"telephone\">(812) 855-7241</a></dd> </dl></div></article><article class=\"profile feed-item\" itemscope=\"itemscope\" itemtype=\"http://schema.org/Person\"><figure class=\"media image circle\" itemscope=\"itemscope\" itemtype=\"http://schema.org/ImageObject\" onclick=\"window.location.href='/contact/profile/index.html?Haixu_Tang'\"><img src=\"/images/people/tang-haixu-2019-08.jpg\" alt=\"Profile image of Haixu Tang \" /></figure><div class=\"content\"><p class=\"title no-margin title\"><a href=\"/contact/profile/index.html?Haixu_Tang\" itemprop=\"url\"><span class=\"NameHeader\" itemprop=\"name\">Haixu Tang</span></a></p><p class=\"sub-title\">Professor of Informatics and Computing<br />Director, Data Science Academic Programs</p><dl class=\"meta inline\"><dt style=\"display:none;\">email:</dt><dd><a rel=\"nofollow\" href=\"mailto:hatang@indiana.edu\" class=\"email\">hatang@indiana.edu</a></dd>  | <dt style=\"display:none;\">phone:</dt><dd><a rel=\"nofollow\" href=\"tel:+1(812) 856-1859\" itemprop=\"telephone\">(812) 856-1859</a></dd> </dl></div></article><article class=\"profile feed-item\" itemscope=\"itemscope\" itemtype=\"http://schema.org/Person\"><figure class=\"media image circle\" itemscope=\"itemscope\" itemtype=\"http://schema.org/ImageObject\" onclick=\"window.location.href='/contact/profile/index.html?Wei_Tang'\"><img src=\"/images/people/wei-tang-2020-09.jpg\" alt=\"Profile image of Wei Tang \" /></figure><div class=\"content\"><p class=\"title no-margin title\"><a href=\"/contact/profile/index.html?Wei_Tang\" itemprop=\"url\"><span class=\"NameHeader\" itemprop=\"name\">Wei Tang</span></a></p><p class=\"sub-title\">Assistant Scientist</p><dl class=\"meta inline\"><dt style=\"display:none;\">email:</dt><dd><a rel=\"nofollow\" href=\"mailto:wt1@iu.edu\" class=\"email\">wt1@iu.edu</a></dd>  | <dt style=\"display:none;\">phone:</dt><dd><a rel=\"nofollow\" href=\"tel:+1(812) 856-7446\" itemprop=\"telephone\">(812) 856-7446</a></dd> </dl></div></article><article class=\"profile feed-item\" itemscope=\"itemscope\" itemtype=\"http://schema.org/Person\"><figure class=\"media image circle\" itemscope=\"itemscope\" itemtype=\"http://schema.org/ImageObject\" onclick=\"window.location.href='/contact/profile/index.html?Zoran_Tiganj'\"><img src=\"/images/people/tiganj-zoran-2020-03.jpg\" alt=\"Profile image of Zoran Tiganj \" /></figure><div class=\"content\"><p class=\"title no-margin title\"><a href=\"/contact/profile/index.html?Zoran_Tiganj\" itemprop=\"url\"><span class=\"NameHeader\" itemprop=\"name\">Zoran Tiganj</span></a></p><p class=\"sub-title\">Assistant Professor of Computer Science</p><dl class=\"meta inline\"><dt style=\"display:none;\">email:</dt><dd><a rel=\"nofollow\" href=\"mailto:ztiganj@iu.edu\" class=\"email\">ztiganj@iu.edu</a></dd> </dl></div></article><article class=\"profile feed-item\" itemscope=\"itemscope\" itemtype=\"http://schema.org/Person\"><figure class=\"media image circle\" itemscope=\"itemscope\" itemtype=\"http://schema.org/ImageObject\" onclick=\"window.location.href='/contact/profile/index.html?Sam_Tobin-Hochstadt'\"><img src=\"/images/people/tobin-hochstadt-sam-2014-03.jpg\" alt=\"Profile image of Sam Tobin-Hochstadt \" /></figure><div class=\"content\"><p class=\"title no-margin title\"><a href=\"/contact/profile/index.html?Sam_Tobin-Hochstadt\" itemprop=\"url\"><span class=\"NameHeader\" itemprop=\"name\">Sam Tobin-Hochstadt</span></a></p><p class=\"sub-title\">Director of Undergraduate Studies for Computer Science<br />Associate Professor</p><dl class=\"meta inline\"><dt style=\"display:none;\">email:</dt><dd><a rel=\"nofollow\" href=\"mailto:samth@indiana.edu\" class=\"email\">samth@indiana.edu</a></dd> </dl></div></article><article class=\"profile feed-item\" itemscope=\"itemscope\" itemtype=\"http://schema.org/Person\"><figure class=\"media image circle\" itemscope=\"itemscope\" itemtype=\"http://schema.org/ImageObject\" onclick=\"window.location.href='/contact/profile/index.html?Dirk_Van~Gucht'\"><img src=\"/images/people/vgucht.jpg\" alt=\"Profile image of Dirk Van Gucht \" /></figure><div class=\"content\"><p class=\"title no-margin title\"><a href=\"/contact/profile/index.html?Dirk_Van~Gucht\" itemprop=\"url\"><span class=\"NameHeader\" itemprop=\"name\">Dirk Van Gucht</span></a></p><p class=\"sub-title\">Professor of Computer Science</p><dl class=\"meta inline\"><dt style=\"display:none;\">email:</dt><dd><a rel=\"nofollow\" href=\"mailto:vgucht@cs.indiana.edu\" class=\"email\">vgucht@cs.indiana.edu</a></dd>  | <dt style=\"display:none;\">phone:</dt><dd><a rel=\"nofollow\" href=\"tel:+1(812) 855-6429\" itemprop=\"telephone\">(812) 855-6429</a></dd> </dl></div></article><article class=\"profile feed-item\" itemscope=\"itemscope\" itemtype=\"http://schema.org/Person\"><figure class=\"media image circle\" itemscope=\"itemscope\" itemtype=\"http://schema.org/ImageObject\" onclick=\"window.location.href='/contact/profile/index.html?Chenghong_Wang'\"><img src=\"/images/people/chenghong-wang-2023-08.jpg\" alt=\"Profile image of Chenghong Wang \" /></figure><div class=\"content\"><p class=\"title no-margin title\"><a href=\"/contact/profile/index.html?Chenghong_Wang\" itemprop=\"url\"><span class=\"NameHeader\" itemprop=\"name\">Chenghong Wang</span></a></p><p class=\"sub-title\">Assistant Professor</p><dl class=\"meta inline\"><dt style=\"display:none;\">email:</dt><dd><a rel=\"nofollow\" href=\"mailto:cw16@iu.edu\" class=\"email\">cw16@iu.edu</a></dd> </dl></div></article><article class=\"profile feed-item\" itemscope=\"itemscope\" itemtype=\"http://schema.org/Person\"><figure class=\"media image circle\" itemscope=\"itemscope\" itemtype=\"http://schema.org/ImageObject\" onclick=\"window.location.href='/contact/profile/index.html?XiaoFeng_Wang'\"><img src=\"/images/people/wang-xiaofeng-2014-03.jpg\" alt=\"Profile image of XiaoFeng Wang \" /></figure><div class=\"content\"><p class=\"title no-margin title\"><a href=\"/contact/profile/index.html?XiaoFeng_Wang\" itemprop=\"url\"><span class=\"NameHeader\" itemprop=\"name\">XiaoFeng Wang</span></a></p><p class=\"sub-title\">Associate Dean for Research<br />James H. Rudy Professor of Computer Science, Engineering and Informatics</p><dl class=\"meta inline\"><dt style=\"display:none;\">email:</dt><dd><a rel=\"nofollow\" href=\"mailto:xw7@indiana.edu\" class=\"email\">xw7@indiana.edu</a></dd>  | <dt style=\"display:none;\">phone:</dt><dd><a rel=\"nofollow\" href=\"tel:+1(812) 856-1862\" itemprop=\"telephone\">(812) 856-1862</a></dd> </dl></div></article><article class=\"profile feed-item\" itemscope=\"itemscope\" itemtype=\"http://schema.org/Person\"><figure class=\"media image circle\" itemscope=\"itemscope\" itemtype=\"http://schema.org/ImageObject\" onclick=\"window.location.href='/contact/profile/index.html?Yijie_Wang'\"><img src=\"/images/people/wang-yijie.jpg\" alt=\"Profile image of Yijie Wang \" /></figure><div class=\"content\"><p class=\"title no-margin title\"><a href=\"/contact/profile/index.html?Yijie_Wang\" itemprop=\"url\"><span class=\"NameHeader\" itemprop=\"name\">Yijie Wang</span></a></p><p class=\"sub-title\">Assistant Professor</p><dl class=\"meta inline\"><dt style=\"display:none;\">email:</dt><dd><a rel=\"nofollow\" href=\"mailto:yijwang@iu.edu\" class=\"email\">yijwang@iu.edu</a></dd> </dl></div></article><article class=\"profile feed-item\" itemscope=\"itemscope\" itemtype=\"http://schema.org/Person\"><figure class=\"media image circle\" itemscope=\"itemscope\" itemtype=\"http://schema.org/ImageObject\" onclick=\"window.location.href='/contact/profile/index.html?Erik_Wennstrom'\"><img src=\"/images/people/wennstrom-erik-2014.jpg\" alt=\"Profile image of Erik Wennstrom \" /></figure><div class=\"content\"><p class=\"title no-margin title\"><a href=\"/contact/profile/index.html?Erik_Wennstrom\" itemprop=\"url\"><span class=\"NameHeader\" itemprop=\"name\">Erik Wennstrom</span></a></p><p class=\"sub-title\">Senior Lecturer</p><dl class=\"meta inline\"><dt style=\"display:none;\">email:</dt><dd><a rel=\"nofollow\" href=\"mailto:ewennstr@indiana.edu\" class=\"email\">ewennstr@indiana.edu</a></dd> </dl></div></article><article class=\"profile feed-item\" itemscope=\"itemscope\" itemtype=\"http://schema.org/Person\"><figure class=\"media image circle\" itemscope=\"itemscope\" itemtype=\"http://schema.org/ImageObject\" onclick=\"window.location.href='/contact/profile/index.html?Jeff_Whitmer'\"><img src=\"/images/people/whitmer-jeff.jpg\" alt=\"Profile image of Jeff Whitmer \" /></figure><div class=\"content\"><p class=\"title no-margin title\"><a href=\"/contact/profile/index.html?Jeff_Whitmer\" itemprop=\"url\"><span class=\"NameHeader\" itemprop=\"name\">Jeff Whitmer</span></a></p><p class=\"sub-title\">Senior Lecturer of Computer Science and                                Informatics</p><dl class=\"meta inline\"><dt style=\"display:none;\">email:</dt><dd><a rel=\"nofollow\" href=\"mailto:jwhitmer@cs.indiana.edu\" class=\"email\">jwhitmer@cs.indiana.edu</a></dd>  | <dt style=\"display:none;\">phone:</dt><dd><a rel=\"nofollow\" href=\"tel:+1(812) 855-3974\" itemprop=\"telephone\">(812) 855-3974</a></dd> </dl></div></article><article class=\"profile feed-item\" itemscope=\"itemscope\" itemtype=\"http://schema.org/Person\"><figure class=\"media image circle\" itemscope=\"itemscope\" itemtype=\"http://schema.org/ImageObject\" onclick=\"window.location.href='/contact/profile/index.html?Luyi_Xing'\"><img src=\"/images/people/xing-liyu-2018-11.jpg\" alt=\"Profile image of Luyi Xing \" /></figure><div class=\"content\"><p class=\"title no-margin title\"><a href=\"/contact/profile/index.html?Luyi_Xing\" itemprop=\"url\"><span class=\"NameHeader\" itemprop=\"name\">Luyi Xing</span></a></p><p class=\"sub-title\">Assistant Professor of Computer Science</p><dl class=\"meta inline\"><dt style=\"display:none;\">email:</dt><dd><a rel=\"nofollow\" href=\"mailto:luyixing@indiana.edu\" class=\"email\">luyixing@indiana.edu</a></dd> </dl></div></article><article class=\"profile feed-item\" itemscope=\"itemscope\" itemtype=\"http://schema.org/Person\"><figure class=\"media image circle\" itemscope=\"itemscope\" itemtype=\"http://schema.org/ImageObject\" onclick=\"window.location.href='/contact/profile/index.html?Yuzhen_Ye'\"><img src=\"/images/people/yuzhen-ye-12-2022.jpg\" alt=\"Profile image of Yuzhen Ye \" /></figure><div class=\"content\"><p class=\"title no-margin title\"><a href=\"/contact/profile/index.html?Yuzhen_Ye\" itemprop=\"url\"><span class=\"NameHeader\" itemprop=\"name\">Yuzhen Ye</span></a></p><p class=\"sub-title\">Chair, Computer Science<br />Professor of Informatics and Computer Science</p><dl class=\"meta inline\"><dt style=\"display:none;\">email:</dt><dd><a rel=\"nofollow\" href=\"mailto:yye@indiana.edu\" class=\"email\">yye@indiana.edu</a></dd> </dl></div></article><article class=\"profile feed-item\" itemscope=\"itemscope\" itemtype=\"http://schema.org/Person\"><figure class=\"media image circle\" itemscope=\"itemscope\" itemtype=\"http://schema.org/ImageObject\" onclick=\"window.location.href='/contact/profile/index.html?Qin_Zhang'\"><img src=\"/images/people/qin-zhang-12-2022.jpg\" alt=\"Profile image of Qin Zhang \" /></figure><div class=\"content\"><p class=\"title no-margin title\"><a href=\"/contact/profile/index.html?Qin_Zhang\" itemprop=\"url\"><span class=\"NameHeader\" itemprop=\"name\">Qin Zhang</span></a></p><p class=\"sub-title\">Director of Graduate Admissions for Computer Science<br />Professor</p><dl class=\"meta inline\"><dt style=\"display:none;\">email:</dt><dd><a rel=\"nofollow\" href=\"mailto:qzhangcs@indiana.edu\" class=\"email\">qzhangcs@indiana.edu</a></dd> </dl></div></article><article class=\"profile feed-item\" itemscope=\"itemscope\" itemtype=\"http://schema.org/Person\"><figure class=\"media image circle\" itemscope=\"itemscope\" itemtype=\"http://schema.org/ImageObject\" onclick=\"window.location.href='/contact/profile/index.html?Xuhong_Zhang'\"><img src=\"/images/people/xuhong-zhang-04-2021.jpg\" alt=\"Profile image of Xuhong Zhang \" /></figure><div class=\"content\"><p class=\"title no-margin title\"><a href=\"/contact/profile/index.html?Xuhong_Zhang\" itemprop=\"url\"><span class=\"NameHeader\" itemprop=\"name\">Xuhong Zhang</span></a></p><p class=\"sub-title\">Assistant Professor</p><dl class=\"meta inline\"><dt style=\"display:none;\">email:</dt><dd><a rel=\"nofollow\" href=\"mailto:zhangxuh@indiana.edu\" class=\"email\">zhangxuh@indiana.edu</a></dd>  | <dt style=\"display:none;\">phone:</dt><dd><a rel=\"nofollow\" href=\"tel:+1(812) 855-3905\" itemprop=\"telephone\">(812) 855-3905</a></dd> </dl></div></article><article class=\"profile feed-item\" itemscope=\"itemscope\" itemtype=\"http://schema.org/Person\"><figure class=\"media image circle\" itemscope=\"itemscope\" itemtype=\"http://schema.org/ImageObject\" onclick=\"window.location.href='/contact/profile/index.html?Dongruo_Zhou'\"><img src=\"/images/people/dongruo-zhou-08-2023.jpg\" alt=\"Profile image of Dongruo Zhou \" /></figure><div class=\"content\"><p class=\"title no-margin title\"><a href=\"/contact/profile/index.html?Dongruo_Zhou\" itemprop=\"url\"><span class=\"NameHeader\" itemprop=\"name\">Dongruo Zhou</span></a></p><p class=\"sub-title\">Assistant Professor</p><dl class=\"meta inline\"><dt style=\"display:none;\">email:</dt><dd><a rel=\"nofollow\" href=\"mailto:dz13@iu.edu\" class=\"email\">dz13@iu.edu</a></dd> </dl></div></article><script>var totPeeps = 48; var maxPeeps = 48;</script>\r\n",
      "\n"
     ]
    }
   ],
   "source": [
    "print(response.text)\n"
   ],
   "metadata": {
    "collapsed": false,
    "pycharm": {
     "name": "#%%\n"
    }
   }
  },
  {
   "cell_type": "code",
   "execution_count": 7,
   "outputs": [
    {
     "name": "stdout",
     "output_type": "stream",
     "text": [
      "[[<article.profile.feed-item>], [<article.profile.feed-item>], [<article.profile.feed-item>], [<article.profile.feed-item>], [<article.profile.feed-item>], [<article.profile.feed-item>], [<article.profile.feed-item>], [<article.profile.feed-item>], [<article.profile.feed-item>], [<article.profile.feed-item>], [<article.profile.feed-item>], [<article.profile.feed-item>], [<article.profile.feed-item>], [<article.profile.feed-item>], [<article.profile.feed-item>], [<article.profile.feed-item>], [<article.profile.feed-item>], [<article.profile.feed-item>], [<article.profile.feed-item>], [<article.profile.feed-item>], [<article.profile.feed-item>], [<article.profile.feed-item>], [<article.profile.feed-item>], [<article.profile.feed-item>], [<article.profile.feed-item>], [<article.profile.feed-item>], [<article.profile.feed-item>], [<article.profile.feed-item>], [<article.profile.feed-item>], [<article.profile.feed-item>], [<article.profile.feed-item>], [<article.profile.feed-item>], [<article.profile.feed-item>], [<article.profile.feed-item>], [<article.profile.feed-item>], [<article.profile.feed-item>], [<article.profile.feed-item>], [<article.profile.feed-item>], [<article.profile.feed-item>], [<article.profile.feed-item>], [<article.profile.feed-item>], [<article.profile.feed-item>], [<article.profile.feed-item>], [<article.profile.feed-item>], [<article.profile.feed-item>], [<article.profile.feed-item>], [<article.profile.feed-item>], [<article.profile.feed-item>]]\n"
     ]
    }
   ],
   "source": [
    "mainResults = doc(\"article.profile.feed-item\").items()\n",
    "mainResults = list(mainResults)\n",
    "print(mainResults)"
   ],
   "metadata": {
    "collapsed": false,
    "pycharm": {
     "name": "#%%\n"
    }
   }
  },
  {
   "cell_type": "code",
   "execution_count": 8,
   "outputs": [
    {
     "name": "stdout",
     "output_type": "stream",
     "text": [
      "https://cs.indiana.edu/contact/profile/index.html?Carlo_Angiuli\n",
      "https://cs.indiana.edu/contact/profile/index.html?Nazim_Ashraf\n",
      "https://cs.indiana.edu/contact/profile/index.html?Hamidreza_Bahramian\n",
      "https://cs.indiana.edu/contact/profile/index.html?Saúl_Blanco\n",
      "https://cs.indiana.edu/contact/profile/index.html?Volker_Brendel\n",
      "https://cs.indiana.edu/contact/profile/index.html?Geoffrey_Brown\n",
      "https://cs.indiana.edu/contact/profile/index.html?Jean_Camp\n",
      "https://cs.indiana.edu/contact/profile/index.html?David_Crandall\n",
      "https://cs.indiana.edu/contact/profile/index.html?Mehmet_Dalkilic\n",
      "https://cs.indiana.edu/contact/profile/index.html?Funda_Ergun\n",
      "https://cs.indiana.edu/contact/profile/index.html?Daniel_Friedman\n",
      "https://cs.indiana.edu/contact/profile/index.html?Dan-Adrian_German\n",
      "https://cs.indiana.edu/contact/profile/index.html?Matthew_Hahn\n",
      "https://cs.indiana.edu/contact/profile/index.html?Mohsen_Heidari\n",
      "https://cs.indiana.edu/contact/profile/index.html?Mitja_Hmeljak\n",
      "https://cs.indiana.edu/contact/profile/index.html?Douglas_Hofstadter\n",
      "https://cs.indiana.edu/contact/profile/index.html?Yan_Huang\n",
      "https://cs.indiana.edu/contact/profile/index.html?Apu_Kapadia\n",
      "https://cs.indiana.edu/contact/profile/index.html?Roni_Khardon\n",
      "https://cs.indiana.edu/contact/profile/index.html?Oguzhan_Kulekci~\n",
      "https://cs.indiana.edu/contact/profile/index.html?David_Leake\n",
      "https://cs.indiana.edu/contact/profile/index.html?Daniel_Leivant\n",
      "https://cs.indiana.edu/contact/profile/index.html?Xiaojing_Liao\n",
      "https://cs.indiana.edu/contact/profile/index.html?Vel_Malbasa\n",
      "https://cs.indiana.edu/contact/profile/index.html?Michael_McRobbie\n",
      "https://cs.indiana.edu/contact/profile/index.html?Charles_Pope\n",
      "https://cs.indiana.edu/contact/profile/index.html?Christopher_Raphael\n",
      "https://cs.indiana.edu/contact/profile/index.html?Gregory_Rawlins\n",
      "https://cs.indiana.edu/contact/profile/index.html?Amr_Sabry\n",
      "https://cs.indiana.edu/contact/profile/index.html?Kurt_Seiffert\n",
      "https://cs.indiana.edu/contact/profile/index.html?Chung-chieh_Shan\n",
      "https://cs.indiana.edu/contact/profile/index.html?Muazzam_Siddiqui\n",
      "https://cs.indiana.edu/contact/profile/index.html?Jeremy_Siek\n",
      "https://cs.indiana.edu/contact/profile/index.html?Haixu_Tang\n",
      "https://cs.indiana.edu/contact/profile/index.html?Wei_Tang\n",
      "https://cs.indiana.edu/contact/profile/index.html?Zoran_Tiganj\n",
      "https://cs.indiana.edu/contact/profile/index.html?Sam_Tobin-Hochstadt\n",
      "https://cs.indiana.edu/contact/profile/index.html?Dirk_Van~Gucht\n",
      "https://cs.indiana.edu/contact/profile/index.html?Chenghong_Wang\n",
      "https://cs.indiana.edu/contact/profile/index.html?XiaoFeng_Wang\n",
      "https://cs.indiana.edu/contact/profile/index.html?Yijie_Wang\n",
      "https://cs.indiana.edu/contact/profile/index.html?Erik_Wennstrom\n",
      "https://cs.indiana.edu/contact/profile/index.html?Jeff_Whitmer\n",
      "https://cs.indiana.edu/contact/profile/index.html?Luyi_Xing\n",
      "https://cs.indiana.edu/contact/profile/index.html?Yuzhen_Ye\n",
      "https://cs.indiana.edu/contact/profile/index.html?Qin_Zhang\n",
      "https://cs.indiana.edu/contact/profile/index.html?Xuhong_Zhang\n",
      "https://cs.indiana.edu/contact/profile/index.html?Dongruo_Zhou\n"
     ]
    }
   ],
   "source": [
    "# <figure class=\"media image circle\" itemscope=\"itemscope\" itemtype=\"http://schema.org/ImageObject\" onclick=\"window.location.href='/contact/profile/index.html?Martina_Barnas'\">\n",
    "bios_url_list = []\n",
    "for mainResult in mainResults:\n",
    "    bio_url = mainResult(\"figure.media.image.circle\").attr(\"onclick\")\n",
    "    bio_url = bio_url.replace(\"window.location.href='\", \"\").replace(\"'\", \"\")\n",
    "    bio_url = \"https://cs.indiana.edu\" + bio_url\n",
    "    bios_url_list.append(bio_url)\n",
    "    print(bio_url)\n",
    "\n",
    "write_to_file(\"\\n\".join(bios_url_list), save_bio_urls_path)"
   ],
   "metadata": {
    "collapsed": false,
    "pycharm": {
     "name": "#%%\n"
    }
   }
  },
  {
   "cell_type": "code",
   "execution_count": 9,
   "outputs": [],
   "source": [
    "def do_requests(bio_url):\n",
    "    response = requests.get(bio_url, headers=headers, cookies=cookies)\n",
    "    return response"
   ],
   "metadata": {
    "collapsed": false,
    "pycharm": {
     "name": "#%%\n"
    }
   }
  },
  {
   "cell_type": "code",
   "execution_count": 10,
   "outputs": [],
   "source": [
    "def get_courses_taught(response):\n",
    "    doc = pq(response.text)\n",
    "    # 找到h3标签 且内容为Courses Taught at Luddy\n",
    "    h3s = doc(\"h3\").items()\n",
    "    h3s = list(h3s)\n",
    "    for h3 in h3s:\n",
    "        if h3.text() == \"Courses Taught at Luddy\":\n",
    "            courses_taught = h3.parent()\n",
    "            break\n",
    "    else:  # 没找到 返回空列表\n",
    "        return []\n",
    "\n",
    "    courses_taught = courses_taught(\"ul li\").items()\n",
    "    courses_taught = list(courses_taught)\n",
    "    courses_taught_list = []\n",
    "    for course_taught in courses_taught:\n",
    "        course_taught = course_taught(\"a\").text()\n",
    "        if course_taught:\n",
    "            courses_taught_list.append(course_taught)\n",
    "    return courses_taught_list"
   ],
   "metadata": {
    "collapsed": false,
    "pycharm": {
     "name": "#%%\n"
    }
   }
  },
  {
   "cell_type": "code",
   "execution_count": 11,
   "outputs": [],
   "source": [
    "def get_brief_introduction(response):\n",
    "    doc = pq(response.text)\n",
    "    # 找到h3标签 且内容为Courses Taught at Luddy\n",
    "    h2 = doc(\"h2.profile-header-name\")\n",
    "    # 下一个兄弟节点\n",
    "    brief_introduction = h2.next(\"strong\")\n",
    "    brief_introduction = brief_introduction.text()\n",
    "    return brief_introduction"
   ],
   "metadata": {
    "collapsed": false,
    "pycharm": {
     "name": "#%%\n"
    }
   }
  },
  {
   "cell_type": "code",
   "execution_count": 12,
   "outputs": [
    {
     "name": "stdout",
     "output_type": "stream",
     "text": [
      "['A201 Introduction to Programming I', 'A290 Tools for Computing: iOS Application Development', 'B481 Interactive Graphics', 'B581 Advanced Computer Graphics', 'C200 Introduction to Computers and programming', 'C322 Object-Oriented Software Methods', 'C323 Mobile App Development (iOS)', 'C335 Computer Structures', 'C343 Data Structures', 'H343 Data Structures, Honors', 'I399 Current Topics in Informatics: iOS Application Development']\n",
      "Senior Lecturer\n"
     ]
    }
   ],
   "source": [
    "# 测试\n",
    "bio_url = \"https://cs.indiana.edu/contact/profile/index.html?Mitja_Hmeljak\"\n",
    "response = do_requests(bio_url)\n",
    "courses_taught_list = get_courses_taught(response)\n",
    "print(courses_taught_list)\n",
    "brief_introduction = get_brief_introduction(response)\n",
    "print(brief_introduction)"
   ],
   "metadata": {
    "collapsed": false,
    "pycharm": {
     "name": "#%%\n"
    }
   }
  },
  {
   "cell_type": "code",
   "execution_count": 13,
   "outputs": [
    {
     "name": "stdout",
     "output_type": "stream",
     "text": [
      "https://cs.indiana.edu/contact/profile/index.html?Carlo_Angiuli done\n",
      "https://cs.indiana.edu/contact/profile/index.html?Nazim_Ashraf done\n",
      "https://cs.indiana.edu/contact/profile/index.html?Hamidreza_Bahramian done\n",
      "https://cs.indiana.edu/contact/profile/index.html?Saúl_Blanco done\n",
      "https://cs.indiana.edu/contact/profile/index.html?Volker_Brendel done\n",
      "https://cs.indiana.edu/contact/profile/index.html?Geoffrey_Brown done\n",
      "https://cs.indiana.edu/contact/profile/index.html?Jean_Camp done\n",
      "https://cs.indiana.edu/contact/profile/index.html?David_Crandall done\n",
      "https://cs.indiana.edu/contact/profile/index.html?Mehmet_Dalkilic done\n",
      "https://cs.indiana.edu/contact/profile/index.html?Funda_Ergun done\n",
      "https://cs.indiana.edu/contact/profile/index.html?Daniel_Friedman done\n",
      "https://cs.indiana.edu/contact/profile/index.html?Dan-Adrian_German done\n",
      "https://cs.indiana.edu/contact/profile/index.html?Matthew_Hahn done\n",
      "https://cs.indiana.edu/contact/profile/index.html?Mohsen_Heidari done\n",
      "https://cs.indiana.edu/contact/profile/index.html?Mitja_Hmeljak done\n",
      "https://cs.indiana.edu/contact/profile/index.html?Douglas_Hofstadter done\n",
      "https://cs.indiana.edu/contact/profile/index.html?Yan_Huang done\n",
      "https://cs.indiana.edu/contact/profile/index.html?Apu_Kapadia done\n",
      "https://cs.indiana.edu/contact/profile/index.html?Roni_Khardon done\n",
      "https://cs.indiana.edu/contact/profile/index.html?Oguzhan_Kulekci~ done\n",
      "https://cs.indiana.edu/contact/profile/index.html?David_Leake done\n",
      "https://cs.indiana.edu/contact/profile/index.html?Daniel_Leivant done\n",
      "https://cs.indiana.edu/contact/profile/index.html?Xiaojing_Liao done\n",
      "https://cs.indiana.edu/contact/profile/index.html?Vel_Malbasa done\n",
      "https://cs.indiana.edu/contact/profile/index.html?Michael_McRobbie done\n",
      "https://cs.indiana.edu/contact/profile/index.html?Charles_Pope done\n",
      "https://cs.indiana.edu/contact/profile/index.html?Christopher_Raphael done\n",
      "https://cs.indiana.edu/contact/profile/index.html?Gregory_Rawlins done\n",
      "https://cs.indiana.edu/contact/profile/index.html?Amr_Sabry done\n",
      "https://cs.indiana.edu/contact/profile/index.html?Kurt_Seiffert done\n",
      "https://cs.indiana.edu/contact/profile/index.html?Chung-chieh_Shan done\n",
      "https://cs.indiana.edu/contact/profile/index.html?Muazzam_Siddiqui done\n",
      "https://cs.indiana.edu/contact/profile/index.html?Jeremy_Siek done\n",
      "https://cs.indiana.edu/contact/profile/index.html?Haixu_Tang done\n",
      "https://cs.indiana.edu/contact/profile/index.html?Wei_Tang done\n",
      "https://cs.indiana.edu/contact/profile/index.html?Zoran_Tiganj done\n",
      "https://cs.indiana.edu/contact/profile/index.html?Sam_Tobin-Hochstadt done\n",
      "https://cs.indiana.edu/contact/profile/index.html?Dirk_Van~Gucht done\n",
      "https://cs.indiana.edu/contact/profile/index.html?Chenghong_Wang done\n",
      "https://cs.indiana.edu/contact/profile/index.html?XiaoFeng_Wang done\n",
      "https://cs.indiana.edu/contact/profile/index.html?Yijie_Wang done\n",
      "https://cs.indiana.edu/contact/profile/index.html?Erik_Wennstrom done\n",
      "https://cs.indiana.edu/contact/profile/index.html?Jeff_Whitmer done\n",
      "https://cs.indiana.edu/contact/profile/index.html?Luyi_Xing done\n",
      "https://cs.indiana.edu/contact/profile/index.html?Yuzhen_Ye done\n",
      "https://cs.indiana.edu/contact/profile/index.html?Qin_Zhang done\n",
      "https://cs.indiana.edu/contact/profile/index.html?Xuhong_Zhang done\n",
      "https://cs.indiana.edu/contact/profile/index.html?Dongruo_Zhou done\n"
     ]
    }
   ],
   "source": [
    "for bio_url in bios_url_list:\n",
    "    response = do_requests(bio_url)\n",
    "    courses_taught_list = get_courses_taught(response)\n",
    "    courses_taught = \"\\n\".join(courses_taught_list)\n",
    "    write_to_file(courses_taught, save_courses_taught_path)\n",
    "    brief_introduction = get_brief_introduction(response)\n",
    "    write_to_file(brief_introduction, save_bios_path)\n",
    "    print(bio_url, \"done\")"
   ],
   "metadata": {
    "collapsed": false,
    "pycharm": {
     "name": "#%%\n"
    }
   }
  },
  {
   "cell_type": "code",
   "execution_count": 13,
   "outputs": [],
   "source": [],
   "metadata": {
    "collapsed": false,
    "pycharm": {
     "name": "#%%\n"
    }
   }
  }
 ],
 "metadata": {
  "kernelspec": {
   "display_name": "Python 3",
   "language": "python",
   "name": "python3"
  },
  "language_info": {
   "codemirror_mode": {
    "name": "ipython",
    "version": 2
   },
   "file_extension": ".py",
   "mimetype": "text/x-python",
   "name": "python",
   "nbconvert_exporter": "python",
   "pygments_lexer": "ipython2",
   "version": "2.7.6"
  }
 },
 "nbformat": 4,
 "nbformat_minor": 0
}